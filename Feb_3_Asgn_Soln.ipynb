{
 "cells": [
  {
   "cell_type": "markdown",
   "id": "dcca9e3b-69fc-4b3c-8760-f161e1a9cc45",
   "metadata": {},
   "source": [
    "                                                             Question-1"
   ]
  },
  {
   "cell_type": "markdown",
   "id": "fb10af26-7cb2-4aca-add3-a2c65f824d4b",
   "metadata": {},
   "source": [
    "\"def\" keyword is used to create a function."
   ]
  },
  {
   "cell_type": "code",
   "execution_count": 19,
   "id": "3c5883d2-ca47-4afc-957b-99f8f8b2e11e",
   "metadata": {},
   "outputs": [],
   "source": [
    "my_list=[]\n",
    "def odd_list():\n",
    "    for i in range(1,26):\n",
    "        if i%2!=0:\n",
    "            my_list.append(i)\n",
    "    return my_list\n",
    "        "
   ]
  },
  {
   "cell_type": "code",
   "execution_count": 20,
   "id": "58d62a87-f2ca-4b46-a295-fc51a7486c2e",
   "metadata": {},
   "outputs": [
    {
     "name": "stdout",
     "output_type": "stream",
     "text": [
      "[1, 3, 5, 7, 9, 11, 13, 15, 17, 19, 21, 23, 25]\n"
     ]
    }
   ],
   "source": [
    "print(odd_list())"
   ]
  },
  {
   "cell_type": "code",
   "execution_count": null,
   "id": "b7818c48-71f0-43f0-833b-bc45720861bc",
   "metadata": {},
   "outputs": [],
   "source": [
    "   "
   ]
  },
  {
   "cell_type": "markdown",
   "id": "2ff4a194-9863-419a-a59c-0d2e003b45bc",
   "metadata": {},
   "source": [
    "                                                                Question-2        "
   ]
  },
  {
   "cell_type": "markdown",
   "id": "a8ba2dfa-9a95-42aa-a029-c76487dc58ef",
   "metadata": {},
   "source": [
    "*args is used to have control of giving input parameter to \"function-call\",whenwver there are millions of input paramenters of the function.*args gives output in the form of a tuple(values separated by commas) when a single variable output is assigned to it."
   ]
  },
  {
   "cell_type": "markdown",
   "id": "857d4c21-c49b-4512-8eed-59cab524b113",
   "metadata": {},
   "source": [
    "*kwargs is used to have control of giving input parameter to \"function-call\",whenwver there are millions of input paramenters of the function.*kwargs gives output in the form of a tuple(values arranged in key value pairs)."
   ]
  },
  {
   "cell_type": "markdown",
   "id": "4698c1a0-b853-4e6a-9104-e5af4e636221",
   "metadata": {},
   "source": [
    "                                                                 *args"
   ]
  },
  {
   "cell_type": "code",
   "execution_count": null,
   "id": "95a68717-6334-4f2e-81e7-ab47dbd7fa21",
   "metadata": {},
   "outputs": [],
   "source": [
    "                                                                 \n",
    "def args(t,*args):\n",
    "    return args+t\n",
    "   \n",
    "\n",
    "\n",
    "        "
   ]
  },
  {
   "cell_type": "code",
   "execution_count": 6,
   "id": "ac422267-481f-4790-9455-3c6ff124bc86",
   "metadata": {},
   "outputs": [
    {
     "data": {
      "text/plain": [
       "(1, 2, 3, 4, 5, 1, 2, 3, 4, 5)"
      ]
     },
     "execution_count": 6,
     "metadata": {},
     "output_type": "execute_result"
    }
   ],
   "source": [
    "args((1,2,3,4,5),1,2,3,4,5)    "
   ]
  },
  {
   "cell_type": "markdown",
   "id": "06fdf82e-89c3-47e9-ac6d-5613f7fd8b08",
   "metadata": {},
   "source": [
    "                                                                 *kwargs"
   ]
  },
  {
   "cell_type": "code",
   "execution_count": 17,
   "id": "dc9910d0-0232-4de6-9cea-78fa1c9abbea",
   "metadata": {},
   "outputs": [],
   "source": [
    "def kwargs(**kwargs):\n",
    "    return kwargs\n",
    "   "
   ]
  },
  {
   "cell_type": "code",
   "execution_count": 24,
   "id": "0d11b66a-8186-4220-b421-bb432bcad71f",
   "metadata": {},
   "outputs": [],
   "source": [
    "my_dict=kwargs(a=1,b=2,c=3,d=4)"
   ]
  },
  {
   "cell_type": "code",
   "execution_count": 25,
   "id": "d8b8e175-d544-4588-bb30-171b456f739e",
   "metadata": {},
   "outputs": [
    {
     "name": "stdout",
     "output_type": "stream",
     "text": [
      "c 3\n",
      "d 4\n"
     ]
    }
   ],
   "source": [
    "for i in my_dict.keys():\n",
    "    if my_dict[i]>2:\n",
    "        print(i,my_dict[i])"
   ]
  },
  {
   "cell_type": "code",
   "execution_count": null,
   "id": "81bcbe14-9015-472b-b738-a87066641f33",
   "metadata": {},
   "outputs": [],
   "source": []
  },
  {
   "cell_type": "markdown",
   "id": "4925dc40-0786-4512-a8c7-dd26fe0c1dfa",
   "metadata": {},
   "source": [
    "                                                                 Question-3      "
   ]
  },
  {
   "cell_type": "markdown",
   "id": "a31b513b-9a84-4765-97d4-fbd160d3bed5",
   "metadata": {},
   "source": [
    "An iterator is an object that can be iterated upon, meaning that you can traverse through all the values."
   ]
  },
  {
   "cell_type": "markdown",
   "id": "74f20591-972e-437e-92a4-645abcf9b046",
   "metadata": {},
   "source": [
    "iter() method is used to initialise the iterator object and next() method is used for iteration."
   ]
  },
  {
   "cell_type": "code",
   "execution_count": 93,
   "id": "14d91a5d-5517-4a12-840b-8b89f51db274",
   "metadata": {},
   "outputs": [],
   "source": [
    "given_list=[2, 4, 6, 8, 10, 12, 14, 16, 18, 20]\n",
    "list_iter=iter(given_list)"
   ]
  },
  {
   "cell_type": "code",
   "execution_count": 94,
   "id": "fe5180b4-4562-4951-9ec6-1469c338b68d",
   "metadata": {},
   "outputs": [
    {
     "data": {
      "text/plain": [
       "2"
      ]
     },
     "execution_count": 94,
     "metadata": {},
     "output_type": "execute_result"
    }
   ],
   "source": [
    "next(list_iter)"
   ]
  },
  {
   "cell_type": "code",
   "execution_count": 95,
   "id": "fc764788-5fe3-436a-a4f6-66e3781ef2c5",
   "metadata": {},
   "outputs": [
    {
     "data": {
      "text/plain": [
       "4"
      ]
     },
     "execution_count": 95,
     "metadata": {},
     "output_type": "execute_result"
    }
   ],
   "source": [
    "next(list_iter)"
   ]
  },
  {
   "cell_type": "code",
   "execution_count": 96,
   "id": "1b05b6b9-1d77-4d6b-8246-d4aa7160174d",
   "metadata": {},
   "outputs": [
    {
     "data": {
      "text/plain": [
       "6"
      ]
     },
     "execution_count": 96,
     "metadata": {},
     "output_type": "execute_result"
    }
   ],
   "source": [
    "next(list_iter)"
   ]
  },
  {
   "cell_type": "code",
   "execution_count": 97,
   "id": "f850e404-8b66-4e8d-97ad-8ed6cac5512c",
   "metadata": {},
   "outputs": [
    {
     "data": {
      "text/plain": [
       "8"
      ]
     },
     "execution_count": 97,
     "metadata": {},
     "output_type": "execute_result"
    }
   ],
   "source": [
    "next(list_iter)"
   ]
  },
  {
   "cell_type": "code",
   "execution_count": 98,
   "id": "21fb9f58-f093-4d91-a0a2-39d35dfd2f9d",
   "metadata": {},
   "outputs": [
    {
     "data": {
      "text/plain": [
       "10"
      ]
     },
     "execution_count": 98,
     "metadata": {},
     "output_type": "execute_result"
    }
   ],
   "source": [
    "next(list_iter)"
   ]
  },
  {
   "cell_type": "markdown",
   "id": "a1a2ef20-9c9c-48ab-9503-7cdcd7795f67",
   "metadata": {},
   "source": [
    "                                                                 Question-4"
   ]
  },
  {
   "cell_type": "markdown",
   "id": "3d2fca5b-13de-459c-b6b7-0de9411b5e55",
   "metadata": {},
   "source": [
    "A generator is a function that returns an iterator that produces a sequence of values when iterated over. Generators are useful when we want to produce a large sequence of values, but we don't want to store all of them in memory at once."
   ]
  },
  {
   "cell_type": "markdown",
   "id": "c604e397-beea-414d-95da-2c9b992d6a8f",
   "metadata": {},
   "source": [
    "yield keyword is used to create a generator function."
   ]
  },
  {
   "cell_type": "markdown",
   "id": "f770f193-5efe-4f0b-aab1-6b9efb066613",
   "metadata": {},
   "source": [
    "                                                                Question-5                                                                    "
   ]
  },
  {
   "cell_type": "code",
   "execution_count": 67,
   "id": "358b7e58-04b2-4b38-be69-df9f7007aa16",
   "metadata": {},
   "outputs": [],
   "source": [
    "def generator_func():\n",
    "    \n",
    "    for i in range(2,1001):\n",
    "        for j in range(2,1001):\n",
    "            if i%j==0:\n",
    "                break\n",
    "        if i==j:\n",
    "            yield i\n",
    "        \n",
    "           "
   ]
  },
  {
   "cell_type": "code",
   "execution_count": 68,
   "id": "91954cec-5fe1-4bc2-ba5c-5c8a40ec1290",
   "metadata": {},
   "outputs": [
    {
     "name": "stdout",
     "output_type": "stream",
     "text": [
      "2\n",
      "3\n",
      "5\n",
      "7\n",
      "11\n",
      "13\n",
      "17\n",
      "19\n",
      "23\n",
      "29\n",
      "31\n",
      "37\n",
      "41\n",
      "43\n",
      "47\n",
      "53\n",
      "59\n",
      "61\n",
      "67\n",
      "71\n",
      "73\n",
      "79\n",
      "83\n",
      "89\n",
      "97\n",
      "101\n",
      "103\n",
      "107\n",
      "109\n",
      "113\n",
      "127\n",
      "131\n",
      "137\n",
      "139\n",
      "149\n",
      "151\n",
      "157\n",
      "163\n",
      "167\n",
      "173\n",
      "179\n",
      "181\n",
      "191\n",
      "193\n",
      "197\n",
      "199\n",
      "211\n",
      "223\n",
      "227\n",
      "229\n",
      "233\n",
      "239\n",
      "241\n",
      "251\n",
      "257\n",
      "263\n",
      "269\n",
      "271\n",
      "277\n",
      "281\n",
      "283\n",
      "293\n",
      "307\n",
      "311\n",
      "313\n",
      "317\n",
      "331\n",
      "337\n",
      "347\n",
      "349\n",
      "353\n",
      "359\n",
      "367\n",
      "373\n",
      "379\n",
      "383\n",
      "389\n",
      "397\n",
      "401\n",
      "409\n",
      "419\n",
      "421\n",
      "431\n",
      "433\n",
      "439\n",
      "443\n",
      "449\n",
      "457\n",
      "461\n",
      "463\n",
      "467\n",
      "479\n",
      "487\n",
      "491\n",
      "499\n",
      "503\n",
      "509\n",
      "521\n",
      "523\n",
      "541\n",
      "547\n",
      "557\n",
      "563\n",
      "569\n",
      "571\n",
      "577\n",
      "587\n",
      "593\n",
      "599\n",
      "601\n",
      "607\n",
      "613\n",
      "617\n",
      "619\n",
      "631\n",
      "641\n",
      "643\n",
      "647\n",
      "653\n",
      "659\n",
      "661\n",
      "673\n",
      "677\n",
      "683\n",
      "691\n",
      "701\n",
      "709\n",
      "719\n",
      "727\n",
      "733\n",
      "739\n",
      "743\n",
      "751\n",
      "757\n",
      "761\n",
      "769\n",
      "773\n",
      "787\n",
      "797\n",
      "809\n",
      "811\n",
      "821\n",
      "823\n",
      "827\n",
      "829\n",
      "839\n",
      "853\n",
      "857\n",
      "859\n",
      "863\n",
      "877\n",
      "881\n",
      "883\n",
      "887\n",
      "907\n",
      "911\n",
      "919\n",
      "929\n",
      "937\n",
      "941\n",
      "947\n",
      "953\n",
      "967\n",
      "971\n",
      "977\n",
      "983\n",
      "991\n",
      "997\n"
     ]
    }
   ],
   "source": [
    "for k in generator_func():\n",
    "    print(k)"
   ]
  },
  {
   "cell_type": "code",
   "execution_count": 1,
   "id": "631ad3e7-217e-4201-acb5-1c4ab97a7b48",
   "metadata": {},
   "outputs": [],
   "source": [
    "def generator_func():\n",
    "    \n",
    "    for i in range(2,1001):\n",
    "        for j in range(2,1001):\n",
    "            if i%j==0:\n",
    "                break\n",
    "        if i==j:\n",
    "            yield i"
   ]
  },
  {
   "cell_type": "code",
   "execution_count": 16,
   "id": "b23a81f3-e5cc-40e2-89ed-cefad1c1154a",
   "metadata": {},
   "outputs": [
    {
     "name": "stdout",
     "output_type": "stream",
     "text": [
      "2\n"
     ]
    }
   ],
   "source": [
    "a=generator_func()\n",
    "print(next(a))"
   ]
  },
  {
   "cell_type": "code",
   "execution_count": 17,
   "id": "3e8b7cf1-49eb-4099-86be-1b4ef7f1a275",
   "metadata": {},
   "outputs": [
    {
     "name": "stdout",
     "output_type": "stream",
     "text": [
      "3\n"
     ]
    }
   ],
   "source": [
    "print(next(a))"
   ]
  },
  {
   "cell_type": "code",
   "execution_count": 18,
   "id": "78d674d9-3686-446e-8db9-a09ed679ae9f",
   "metadata": {},
   "outputs": [
    {
     "name": "stdout",
     "output_type": "stream",
     "text": [
      "5\n"
     ]
    }
   ],
   "source": [
    "print(next(a))"
   ]
  },
  {
   "cell_type": "code",
   "execution_count": 19,
   "id": "e4844950-b41f-44ab-9228-8cba6fb6324c",
   "metadata": {},
   "outputs": [
    {
     "name": "stdout",
     "output_type": "stream",
     "text": [
      "7\n"
     ]
    }
   ],
   "source": [
    "print(next(a))"
   ]
  },
  {
   "cell_type": "code",
   "execution_count": 20,
   "id": "59142553-1e65-47fe-afa4-eb7bf3ec8647",
   "metadata": {},
   "outputs": [
    {
     "name": "stdout",
     "output_type": "stream",
     "text": [
      "11\n"
     ]
    }
   ],
   "source": [
    "print(next(a))"
   ]
  },
  {
   "cell_type": "code",
   "execution_count": 21,
   "id": "b59d74c7-c372-4a00-b299-776d4e385036",
   "metadata": {},
   "outputs": [
    {
     "name": "stdout",
     "output_type": "stream",
     "text": [
      "13\n"
     ]
    }
   ],
   "source": [
    "print(next(a))"
   ]
  },
  {
   "cell_type": "code",
   "execution_count": 22,
   "id": "cf2d011c-b970-4728-9e7a-fd8af724fb67",
   "metadata": {},
   "outputs": [
    {
     "name": "stdout",
     "output_type": "stream",
     "text": [
      "17\n"
     ]
    }
   ],
   "source": [
    "print(next(a))"
   ]
  },
  {
   "cell_type": "code",
   "execution_count": 23,
   "id": "60d0f58f-d506-416b-bdb4-2fcfe5d51e76",
   "metadata": {},
   "outputs": [
    {
     "name": "stdout",
     "output_type": "stream",
     "text": [
      "19\n"
     ]
    }
   ],
   "source": [
    "print(next(a))"
   ]
  },
  {
   "cell_type": "code",
   "execution_count": 24,
   "id": "1cbdef2c-7152-47c4-85a7-3258101ad5c8",
   "metadata": {},
   "outputs": [
    {
     "name": "stdout",
     "output_type": "stream",
     "text": [
      "23\n"
     ]
    }
   ],
   "source": [
    "print(next(a))"
   ]
  },
  {
   "cell_type": "code",
   "execution_count": 25,
   "id": "c5a7b215-c7a0-4991-8a1a-c9a40ae2c2ec",
   "metadata": {},
   "outputs": [
    {
     "name": "stdout",
     "output_type": "stream",
     "text": [
      "29\n"
     ]
    }
   ],
   "source": [
    "print(next(a))"
   ]
  },
  {
   "cell_type": "code",
   "execution_count": 26,
   "id": "404d9caa-958f-4ae0-ad6e-ec6f87fa2d96",
   "metadata": {},
   "outputs": [
    {
     "name": "stdout",
     "output_type": "stream",
     "text": [
      "31\n"
     ]
    }
   ],
   "source": [
    "print(next(a))"
   ]
  },
  {
   "cell_type": "code",
   "execution_count": 27,
   "id": "0415adb1-e090-4633-a63d-5649463e8c74",
   "metadata": {},
   "outputs": [
    {
     "name": "stdout",
     "output_type": "stream",
     "text": [
      "37\n"
     ]
    }
   ],
   "source": [
    "print(next(a))"
   ]
  },
  {
   "cell_type": "code",
   "execution_count": 28,
   "id": "2e55c8ed-092f-4aa6-a1ee-efe9151d1ad8",
   "metadata": {},
   "outputs": [
    {
     "name": "stdout",
     "output_type": "stream",
     "text": [
      "41\n"
     ]
    }
   ],
   "source": [
    "print(next(a))"
   ]
  },
  {
   "cell_type": "code",
   "execution_count": 29,
   "id": "d0343628-59d3-40c8-b929-846b2464787a",
   "metadata": {},
   "outputs": [
    {
     "name": "stdout",
     "output_type": "stream",
     "text": [
      "43\n"
     ]
    }
   ],
   "source": [
    "print(next(a))"
   ]
  },
  {
   "cell_type": "code",
   "execution_count": 30,
   "id": "562002a9-0e3c-4c34-8799-60288532b9da",
   "metadata": {},
   "outputs": [
    {
     "name": "stdout",
     "output_type": "stream",
     "text": [
      "47\n"
     ]
    }
   ],
   "source": [
    "print(next(a))"
   ]
  },
  {
   "cell_type": "code",
   "execution_count": 31,
   "id": "88a122b3-3cdd-4117-9021-3afc7c1d9028",
   "metadata": {},
   "outputs": [
    {
     "name": "stdout",
     "output_type": "stream",
     "text": [
      "53\n"
     ]
    }
   ],
   "source": [
    "print(next(a))"
   ]
  },
  {
   "cell_type": "code",
   "execution_count": 32,
   "id": "4fc6d1cc-c0a9-4638-9be5-ad1eeed123d8",
   "metadata": {},
   "outputs": [
    {
     "name": "stdout",
     "output_type": "stream",
     "text": [
      "59\n"
     ]
    }
   ],
   "source": [
    "print(next(a))"
   ]
  },
  {
   "cell_type": "code",
   "execution_count": 33,
   "id": "d32bdf5c-068f-48d7-a3d2-8a5737f65930",
   "metadata": {},
   "outputs": [
    {
     "name": "stdout",
     "output_type": "stream",
     "text": [
      "61\n"
     ]
    }
   ],
   "source": [
    "print(next(a))"
   ]
  },
  {
   "cell_type": "code",
   "execution_count": 34,
   "id": "cf1f6d1d-2363-4b0b-bf79-db72454bd38f",
   "metadata": {},
   "outputs": [
    {
     "name": "stdout",
     "output_type": "stream",
     "text": [
      "67\n"
     ]
    }
   ],
   "source": [
    "print(next(a))"
   ]
  },
  {
   "cell_type": "code",
   "execution_count": 35,
   "id": "82ede5ad-c8a7-4cfa-9e3a-996694558bb5",
   "metadata": {},
   "outputs": [
    {
     "name": "stdout",
     "output_type": "stream",
     "text": [
      "71\n"
     ]
    }
   ],
   "source": [
    "print(next(a))"
   ]
  }
 ],
 "metadata": {
  "kernelspec": {
   "display_name": "Python 3 (ipykernel)",
   "language": "python",
   "name": "python3"
  },
  "language_info": {
   "codemirror_mode": {
    "name": "ipython",
    "version": 3
   },
   "file_extension": ".py",
   "mimetype": "text/x-python",
   "name": "python",
   "nbconvert_exporter": "python",
   "pygments_lexer": "ipython3",
   "version": "3.10.8"
  }
 },
 "nbformat": 4,
 "nbformat_minor": 5
}
