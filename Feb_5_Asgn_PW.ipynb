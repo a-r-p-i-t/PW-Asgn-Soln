{
 "cells": [
  {
   "cell_type": "markdown",
   "id": "d681b00a-d4fd-4c7d-970f-dd8d96025b62",
   "metadata": {},
   "source": [
    "                                                            Question-1"
   ]
  },
  {
   "cell_type": "markdown",
   "id": "4d2c4b50-88a0-4221-9ee6-6ef020b88183",
   "metadata": {},
   "source": [
    "Class is a blueprint that contains all the attributes and methods of its instance,describing the properties of the instance.\n"
   ]
  },
  {
   "cell_type": "markdown",
   "id": "647e201f-ad57-4007-82b8-98a6c708c018",
   "metadata": {},
   "source": [
    "Object is an instance of the class that has the attribututes and functions of its class."
   ]
  },
  {
   "cell_type": "markdown",
   "id": "7e0b041a-89e5-4e69-831e-c78d3b731e97",
   "metadata": {},
   "source": [
    "Example:List is a class that has methods like append, pop,remove,etc\n",
    "       "
   ]
  },
  {
   "cell_type": "markdown",
   "id": "4044e6eb-b65a-4e20-8d13-bcc8a2ee4117",
   "metadata": {},
   "source": [
    " [2,3,4,5,6,\"Arpit\",\"pwskills\"] is an instance of the class list, in which we can append ,pop and remove elements."
   ]
  },
  {
   "cell_type": "code",
   "execution_count": null,
   "id": "fe55d093-3191-4e3d-b6eb-4c6383a73e90",
   "metadata": {},
   "outputs": [],
   "source": [
    "    "
   ]
  },
  {
   "cell_type": "markdown",
   "id": "645d4780-12f7-4051-b0a7-1a41e4a176cd",
   "metadata": {},
   "source": [
    "                                                            Question-2                   "
   ]
  },
  {
   "cell_type": "raw",
   "id": "898169ea-6872-474f-9ca1-f2444da9ec00",
   "metadata": {},
   "source": [
    "The four pillars of OOPs are : Inheritence,Abstraction,Polymorphism,Encapasulation."
   ]
  },
  {
   "cell_type": "code",
   "execution_count": null,
   "id": "48fe50c2-b60f-4f38-824c-39c8ba8fb54e",
   "metadata": {},
   "outputs": [],
   "source": []
  },
  {
   "cell_type": "markdown",
   "id": "085e39e1-e36b-4daf-bfec-4ba4e5625044",
   "metadata": {},
   "source": [
    "                                                            Question-3                                                                "
   ]
  },
  {
   "cell_type": "markdown",
   "id": "e7863350-363a-47be-a1b0-fe4970c908f8",
   "metadata": {},
   "source": [
    "The __init__ function is called every time an object is created from a class. The __init__ method lets the class initialize the object's attributes and serves no other purpose. It is only used within classes."
   ]
  },
  {
   "cell_type": "markdown",
   "id": "05f63884-2163-46dd-908b-1e0b8c5fc54c",
   "metadata": {},
   "source": [
    "Example:"
   ]
  },
  {
   "cell_type": "code",
   "execution_count": 3,
   "id": "d0f671b0-8c42-4801-846f-60b90a0b43cb",
   "metadata": {},
   "outputs": [],
   "source": [
    "class book:\n",
    "    def __init__(self,name,author):\n",
    "        self.name=name\n",
    "        self.author=author"
   ]
  },
  {
   "cell_type": "code",
   "execution_count": 4,
   "id": "0eb40e6c-14c9-45c0-8e9f-acea5d9a23cc",
   "metadata": {},
   "outputs": [],
   "source": [
    "book_1=book(\"Half Girlfriend\",\"Chetan Bhagat\")"
   ]
  },
  {
   "cell_type": "code",
   "execution_count": 5,
   "id": "52c04ae8-7aa9-43cf-9ce1-07819c784048",
   "metadata": {},
   "outputs": [
    {
     "data": {
      "text/plain": [
       "'Chetan Bhagat'"
      ]
     },
     "execution_count": 5,
     "metadata": {},
     "output_type": "execute_result"
    }
   ],
   "source": [
    "book_1.author"
   ]
  },
  {
   "cell_type": "code",
   "execution_count": 6,
   "id": "5a773631-6646-484f-89bc-18cb7b8a31c4",
   "metadata": {},
   "outputs": [
    {
     "data": {
      "text/plain": [
       "'Half Girlfriend'"
      ]
     },
     "execution_count": 6,
     "metadata": {},
     "output_type": "execute_result"
    }
   ],
   "source": [
    "book_1.name"
   ]
  },
  {
   "cell_type": "code",
   "execution_count": null,
   "id": "e8cf1f45-e57d-429d-8c8c-f024e96f9686",
   "metadata": {},
   "outputs": [],
   "source": []
  },
  {
   "cell_type": "markdown",
   "id": "26eafb38-ca62-4dc4-aa17-002ebb7b87e9",
   "metadata": {},
   "source": [
    "                                                            Question-4                                                                 "
   ]
  },
  {
   "cell_type": "markdown",
   "id": "cbe39879-46e5-46c8-be8b-e8fd42f2a9a3",
   "metadata": {},
   "source": [
    "The self variable is used to represent the instance of the class which is often used in object-oriented programming. It works as a reference/pointer to the object. Python uses the self parameter to refer to instance attributes and methods of the class."
   ]
  },
  {
   "cell_type": "code",
   "execution_count": null,
   "id": "6eb07a41-30ae-4dca-a5a0-bb165bd01105",
   "metadata": {},
   "outputs": [],
   "source": []
  },
  {
   "cell_type": "markdown",
   "id": "35294a76-8c25-45cc-bb52-7199c487ae1c",
   "metadata": {},
   "source": [
    "                                                            Question-5                                                               "
   ]
  },
  {
   "cell_type": "markdown",
   "id": "6dc81902-2f92-4780-85c8-141e9da650ca",
   "metadata": {},
   "source": [
    "Inheritance in OOP is When a class derives from another class. The child class will inherit all the public and protected properties and methods from the parent class. In addition, it can have its own properties and methods. An inherited class is defined by using the extends keyword. Inheritance facilitates Reusability and is an important concept of OOPs."
   ]
  },
  {
   "cell_type": "code",
   "execution_count": null,
   "id": "6f5fde51-4520-4548-84f8-3c9e6da470af",
   "metadata": {},
   "outputs": [],
   "source": []
  },
  {
   "cell_type": "code",
   "execution_count": null,
   "id": "35572931-8412-4d82-9b06-2eecbbf7f792",
   "metadata": {},
   "outputs": [],
   "source": []
  },
  {
   "cell_type": "code",
   "execution_count": null,
   "id": "8ad5613f-b834-4bb2-9c8f-17639c8db126",
   "metadata": {},
   "outputs": [],
   "source": []
  },
  {
   "cell_type": "code",
   "execution_count": null,
   "id": "3b07dedd-3fbd-419b-8bcc-b63a098270ad",
   "metadata": {},
   "outputs": [],
   "source": []
  }
 ],
 "metadata": {
  "kernelspec": {
   "display_name": "Python 3 (ipykernel)",
   "language": "python",
   "name": "python3"
  },
  "language_info": {
   "codemirror_mode": {
    "name": "ipython",
    "version": 3
   },
   "file_extension": ".py",
   "mimetype": "text/x-python",
   "name": "python",
   "nbconvert_exporter": "python",
   "pygments_lexer": "ipython3",
   "version": "3.10.8"
  }
 },
 "nbformat": 4,
 "nbformat_minor": 5
}
